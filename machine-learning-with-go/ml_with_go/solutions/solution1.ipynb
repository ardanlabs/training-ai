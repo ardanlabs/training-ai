{
 "cells": [
  {
   "cell_type": "markdown",
   "metadata": {},
   "source": [
    "# Exercise - Regression"
   ]
  },
  {
   "cell_type": "markdown",
   "metadata": {},
   "source": [
    "## Imports"
   ]
  },
  {
   "cell_type": "code",
   "execution_count": null,
   "metadata": {},
   "outputs": [],
   "source": [
    "import (\n",
    "    \"io/ioutil\"\n",
    "    \"fmt\"\n",
    "    \"os\"\n",
    "    \"image/color\"\n",
    "    \"math\"\n",
    "    \n",
    "    \"github.com/kniren/gota/dataframe\"\n",
    "    \"gonum.org/v1/plot\"\n",
    "    \"gonum.org/v1/plot/plotter\"\n",
    "    \"gonum.org/v1/plot/plotutil\"\n",
    "    \"gonum.org/v1/plot/vg\"\n",
    "    \"github.com/sajari/regression\"\n",
    ")"
   ]
  },
  {
   "cell_type": "markdown",
   "metadata": {},
   "source": [
    "## Import the Data"
   ]
  },
  {
   "cell_type": "code",
   "execution_count": null,
   "metadata": {},
   "outputs": [],
   "source": [
    "// Open the data file.\n",
    "f, err := os.Open(\"../data/baseball.heigh.and.weigh.csv\")\n",
    "if err != nil {\n",
    "    fmt.Println(err)\n",
    "}\n",
    "\n",
    "// Read in the contents to a dataframe.\n",
    "dataset := dataframe.ReadCSV(f)\n",
    "\n",
    "// Close the file.\n",
    "f.Close()"
   ]
  },
  {
   "cell_type": "code",
   "execution_count": null,
   "metadata": {},
   "outputs": [],
   "source": [
    "// Output a summary of the dataset to stdout.\n",
    "fmt.Println(dataset)"
   ]
  },
  {
   "cell_type": "markdown",
   "metadata": {},
   "source": [
    "## Split our data into training and test data"
   ]
  },
  {
   "cell_type": "code",
   "execution_count": null,
   "metadata": {},
   "outputs": [],
   "source": [
    "// Calculate the number of elements in each set.\n",
    "// We will utilize and 80/20 split in this case.\n",
    "trainingNum := (4 * dataset.Nrow()) / 5\n",
    "testNum := dataset.Nrow() / 5\n",
    "if trainingNum+testNum < dataset.Nrow() {\n",
    "    trainingNum++\n",
    "}\n",
    "\n",
    "// Create the subset indices.\n",
    "trainingIdx := make([]int, trainingNum)\n",
    "testIdx := make([]int, testNum)\n",
    "\n",
    "// Enumerate the training indices.\n",
    "for i := 0; i < trainingNum; i++ {\n",
    "    trainingIdx[i] = i\n",
    "}\n",
    "\n",
    "// Enumerate the test indices.\n",
    "for i := 0; i < testNum; i++ {\n",
    "    testIdx[i] = trainingNum + i\n",
    "}\n",
    "\n",
    "// Create the subset dataframes.\n",
    "trainingDF := dataset.Subset(trainingIdx)\n",
    "testDF := dataset.Subset(testIdx)"
   ]
  },
  {
   "cell_type": "code",
   "execution_count": null,
   "metadata": {},
   "outputs": [],
   "source": [
    "// Output the sizes of our training and test sets.\n",
    "fmt.Println(trainingDF.Nrow())\n",
    "fmt.Println(testDF.Nrow())"
   ]
  },
  {
   "cell_type": "markdown",
   "metadata": {},
   "source": [
    "## Training our model on the training data"
   ]
  },
  {
   "cell_type": "code",
   "execution_count": null,
   "metadata": {},
   "outputs": [],
   "source": [
    "// In this case we are going to try and model our weight\n",
    "// by height using github.com/sajari/regression.\n",
    "var r regression.Regression\n",
    "r.SetObserved(\"weight\")\n",
    "r.SetVar(0, \"height\")\n",
    "\n",
    "// Extract our y values.\n",
    "y := trainingDF.Col(\"Weight(pounds)\").Float()\n",
    "\n",
    "// Loop of records in the CSV, adding the training data to the regression value.\n",
    "for i, x := range trainingDF.Col(\"Height(inches)\").Float() {\n",
    "\n",
    "    // Add these points to the regression value.\n",
    "    r.Train(regression.DataPoint(y[i], []float64{x}))\n",
    "}\n",
    "\n",
    "// Train/fit the regression model.\n",
    "r.Run()\n",
    "\n",
    "// Output the trained model parameters.\n",
    "fmt.Printf(\"\\nRegression Formula:\\n%v\\n\\n\", r.Formula)"
   ]
  },
  {
   "cell_type": "markdown",
   "metadata": {},
   "source": [
    "## Evaluating our model on the test data"
   ]
  },
  {
   "cell_type": "code",
   "execution_count": null,
   "metadata": {},
   "outputs": [],
   "source": [
    "// Extract the observed weights and test height values.\n",
    "observed := testDF.Col(\"Weight(pounds)\").Float()\n",
    "testHeights := testDF.Col(\"Height(inches)\").Float()\n",
    "\n",
    "// Calculate the mean squared error.\n",
    "var mSE float64\n",
    "for idx, oVal := range observed {\n",
    "    \n",
    "    // Make our prediction.\n",
    "    prediction, err := r.Predict([]float64{testHeights[idx]})\n",
    "    if err != nil {\n",
    "        fmt.Println(err)\n",
    "    }\n",
    "    \n",
    "    mSE += math.Pow(oVal-prediction, 2) / float64(len(observed))\n",
    "}\n",
    "\n",
    "// Calcualte the RMSE.\n",
    "rMSE := math.Sqrt(mSE)\n",
    "\n",
    "// Output the result to stdout.\n",
    "fmt.Printf(\"RMSE: %f\", rMSE)"
   ]
  },
  {
   "cell_type": "code",
   "execution_count": null,
   "metadata": {},
   "outputs": [],
   "source": []
  }
 ],
 "metadata": {
  "kernelspec": {
   "display_name": "Go",
   "language": "go",
   "name": "gophernotes"
  },
  "language_info": {
   "codemirror_mode": "",
   "file_extension": ".go",
   "mimetype": "",
   "name": "go",
   "nbconvert_exporter": "",
   "pygments_lexer": "",
   "version": "go1.10.3"
  }
 },
 "nbformat": 4,
 "nbformat_minor": 2
}
